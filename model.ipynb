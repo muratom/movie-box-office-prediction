{
 "cells": [
  {
   "cell_type": "code",
   "execution_count": null,
   "metadata": {},
   "outputs": [],
   "source": [
    "import pandas as pd\n",
    "import numpy as np\n",
    "from sklearn.preprocessing import MultiLabelBinarizer\n",
    "from ast import literal_eval"
   ]
  },
  {
   "cell_type": "code",
   "execution_count": null,
   "metadata": {},
   "outputs": [],
   "source": [
    "df = pd.read_csv('./movie_dataset.csv', index_col=0)"
   ]
  },
  {
   "cell_type": "code",
   "execution_count": null,
   "metadata": {},
   "outputs": [],
   "source": [
    "df.head()"
   ]
  },
  {
   "cell_type": "code",
   "execution_count": null,
   "metadata": {},
   "outputs": [],
   "source": [
    "df['budget'] = df['budget'].replace({0: np.NAN})\n",
    "df.dropna(subset=['budget', 'mpaa', 'director', 'genres', 'domestic_distributor', 'production_companies', 'production_countries', 'spoken_languages'], inplace=True) \n",
    "\n",
    "df = df[df['status'] == 'Released']\n",
    "df = df.drop(columns=['status'], axis=1)"
   ]
  },
  {
   "cell_type": "code",
   "execution_count": null,
   "metadata": {},
   "outputs": [],
   "source": [
    "cols = ['genres', 'production_countries', 'production_companies', 'actors', 'spoken_languages']\n",
    "\n",
    "mlb_classes = {}\n",
    "for col in cols:\n",
    "    df[col] = df.apply(lambda x: literal_eval(x[col]), axis=1)\n",
    "\n",
    "    mlb = MultiLabelBinarizer()\n",
    "    mlb.fit_transform(df[col])\n",
    "    mlb_classes[col] = mlb.classes_\n",
    "    print(col, len(mlb.classes_))"
   ]
  },
  {
   "cell_type": "code",
   "execution_count": null,
   "metadata": {},
   "outputs": [],
   "source": [
    "mlb = MultiLabelBinarizer()\n",
    "dum = mlb.fit_transform(df['genres'])\n",
    "classes = ['genre_' + x.replace(' ', '_').lower() for x in mlb.classes_]\n",
    "df = df.join(pd.DataFrame(dum.astype(bool), df.index, classes))"
   ]
  },
  {
   "cell_type": "code",
   "execution_count": null,
   "metadata": {},
   "outputs": [],
   "source": [
    "genres = set(mlb.classes_)\n",
    "print('Количество жанров:', len(genres))\n",
    "print('Жанры: ', genres)"
   ]
  },
  {
   "cell_type": "code",
   "execution_count": null,
   "metadata": {},
   "outputs": [],
   "source": [
    "df = df.drop(columns=['genres'], axis=1)"
   ]
  },
  {
   "cell_type": "code",
   "execution_count": null,
   "metadata": {},
   "outputs": [],
   "source": [
    "df = df.join(pd.DataFrame(df['actors'].values.tolist(), df.index, ['actor_1', 'actor_2', 'actor_3']))\n",
    "df = df.drop(['actors'], axis=1)"
   ]
  },
  {
   "cell_type": "markdown",
   "metadata": {},
   "source": [
    "TODO:\n",
    "1. Попробовать one-hot encoding для production_countries, production_companies и spoken_languages; target encoding для actors\n",
    "2. Попробовать для все вышеперечисленных столбцов target encoding"
   ]
  },
  {
   "cell_type": "markdown",
   "metadata": {},
   "source": [
    "Сначала применим one-hot encoding для полей `production_countries`, `production_companies` и `spoken_languages`"
   ]
  },
  {
   "cell_type": "code",
   "execution_count": null,
   "metadata": {},
   "outputs": [],
   "source": [
    "b = df['production_companies'].explode().value_counts()"
   ]
  },
  {
   "cell_type": "code",
   "execution_count": null,
   "metadata": {},
   "outputs": [],
   "source": [
    "a[a['count'] > 20].shape"
   ]
  },
  {
   "cell_type": "code",
   "execution_count": null,
   "metadata": {},
   "outputs": [],
   "source": [
    "df.apply(lambda x: x.mask(x.map(b.value_counts()) < 10, 'other') if x.name == 'production_companies' else x)"
   ]
  },
  {
   "cell_type": "code",
   "execution_count": null,
   "metadata": {},
   "outputs": [],
   "source": [
    "# def dict_list_to_df(s, col):\n",
    "#     rows = []\n",
    "#     for index, row in s.items():\n",
    "#         for item in row:\n",
    "#             rows.append(item)\n",
    "#     df = pd.DataFrame(rows)\n",
    "#     return df\n",
    "\n",
    "\n",
    "# df_genres = df['genres'].apply(lambda i: literal_eval(i))\n",
    "# df_genres = dict_list_to_df(df_genres, 'genres')\n",
    "# df_unique_genres = df_genres.drop_duplicates()\n",
    "# df_unique_genres.set_index('id', inplace=True)"
   ]
  }
 ],
 "metadata": {
  "kernelspec": {
   "display_name": "venv",
   "language": "python",
   "name": "python3"
  },
  "language_info": {
   "codemirror_mode": {
    "name": "ipython",
    "version": 3
   },
   "file_extension": ".py",
   "mimetype": "text/x-python",
   "name": "python",
   "nbconvert_exporter": "python",
   "pygments_lexer": "ipython3",
   "version": "3.11.9"
  }
 },
 "nbformat": 4,
 "nbformat_minor": 2
}
