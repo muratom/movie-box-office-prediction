{
 "cells": [
  {
   "cell_type": "code",
   "execution_count": 129,
   "id": "138d9d48",
   "metadata": {},
   "outputs": [],
   "source": [
    "import pandas"
   ]
  },
  {
   "cell_type": "code",
   "execution_count": 130,
   "id": "7af31168",
   "metadata": {},
   "outputs": [
    {
     "name": "stderr",
     "output_type": "stream",
     "text": [
      "/tmp/ipykernel_17332/942889557.py:1: DtypeWarning: Columns (10) have mixed types. Specify dtype option on import or set low_memory=False.\n",
      "  df = pandas.read_csv('./movies_metadata.csv')\n"
     ]
    }
   ],
   "source": [
    "df = pandas.read_csv('./movies_metadata.csv')\n",
    "# [19730, 29503, 35587]\n",
    "df = df.drop([19730, 29503, 35587])"
   ]
  },
  {
   "cell_type": "code",
   "execution_count": 131,
   "id": "131e7775",
   "metadata": {},
   "outputs": [
    {
     "data": {
      "text/plain": [
       "adult                    False\n",
       "belongs_to_collection     True\n",
       "budget                   False\n",
       "genres                   False\n",
       "homepage                  True\n",
       "id                       False\n",
       "imdb_id                   True\n",
       "original_language         True\n",
       "original_title           False\n",
       "overview                  True\n",
       "popularity                True\n",
       "poster_path               True\n",
       "production_companies      True\n",
       "production_countries      True\n",
       "release_date              True\n",
       "revenue                   True\n",
       "runtime                   True\n",
       "spoken_languages          True\n",
       "status                    True\n",
       "tagline                   True\n",
       "title                     True\n",
       "video                     True\n",
       "vote_average              True\n",
       "vote_count                True\n",
       "dtype: bool"
      ]
     },
     "execution_count": 131,
     "metadata": {},
     "output_type": "execute_result"
    }
   ],
   "source": [
    "df.isnull().any()"
   ]
  },
  {
   "cell_type": "code",
   "execution_count": 132,
   "id": "a30cc5ea",
   "metadata": {},
   "outputs": [],
   "source": [
    "df = df[df['revenue'].notna()]\n",
    "df = df[df['release_date'].notna()]\n",
    "df = df[df['runtime'].notna()]\n",
    "df = df[df['imdb_id'].notna()]"
   ]
  },
  {
   "cell_type": "code",
   "execution_count": 133,
   "id": "0774f9d1",
   "metadata": {},
   "outputs": [
    {
     "data": {
      "text/plain": [
       "adult                    string[python]\n",
       "belongs_to_collection    string[python]\n",
       "budget                   string[python]\n",
       "genres                   string[python]\n",
       "homepage                 string[python]\n",
       "id                       string[python]\n",
       "imdb_id                  string[python]\n",
       "original_language        string[python]\n",
       "original_title           string[python]\n",
       "overview                 string[python]\n",
       "popularity                       object\n",
       "poster_path              string[python]\n",
       "production_companies     string[python]\n",
       "production_countries     string[python]\n",
       "release_date             string[python]\n",
       "revenue                           Int64\n",
       "runtime                           Int64\n",
       "spoken_languages         string[python]\n",
       "status                   string[python]\n",
       "tagline                  string[python]\n",
       "title                    string[python]\n",
       "video                           boolean\n",
       "vote_average                    Float64\n",
       "vote_count                        Int64\n",
       "dtype: object"
      ]
     },
     "execution_count": 133,
     "metadata": {},
     "output_type": "execute_result"
    }
   ],
   "source": [
    "df = df.convert_dtypes()\n",
    "df.dtypes"
   ]
  },
  {
   "cell_type": "code",
   "execution_count": 134,
   "id": "9bdbd3e9",
   "metadata": {},
   "outputs": [],
   "source": [
    "df['budget'] = df['budget'].astype(int)\n",
    "df['imdb_id'] = df['imdb_id'].astype(str)"
   ]
  },
  {
   "cell_type": "code",
   "execution_count": 135,
   "id": "9a219180",
   "metadata": {},
   "outputs": [
    {
     "data": {
      "text/plain": [
       "adult                    False\n",
       "belongs_to_collection     True\n",
       "budget                   False\n",
       "genres                   False\n",
       "homepage                  True\n",
       "id                       False\n",
       "imdb_id                  False\n",
       "original_language         True\n",
       "original_title           False\n",
       "overview                  True\n",
       "popularity               False\n",
       "poster_path               True\n",
       "production_companies     False\n",
       "production_countries     False\n",
       "release_date             False\n",
       "revenue                  False\n",
       "runtime                  False\n",
       "spoken_languages         False\n",
       "status                    True\n",
       "tagline                   True\n",
       "title                    False\n",
       "video                    False\n",
       "vote_average             False\n",
       "vote_count               False\n",
       "dtype: bool"
      ]
     },
     "execution_count": 135,
     "metadata": {},
     "output_type": "execute_result"
    }
   ],
   "source": [
    "df.isnull().any()"
   ]
  },
  {
   "cell_type": "code",
   "execution_count": 136,
   "id": "3b5fac85",
   "metadata": {},
   "outputs": [
    {
     "data": {
      "text/plain": [
       "(45118, 24)"
      ]
     },
     "execution_count": 136,
     "metadata": {},
     "output_type": "execute_result"
    }
   ],
   "source": [
    "df.shape"
   ]
  },
  {
   "cell_type": "code",
   "execution_count": 137,
   "id": "926e1522",
   "metadata": {},
   "outputs": [],
   "source": [
    "df2 = pandas.read_csv('./links.csv')\n",
    "df2 = df2.rename(columns={'imdbId': 'imdb_id', 'tmdbId': 'tmdb_id'})\n",
    "df2 = df2.drop(['movieId'], axis=1)\n",
    "df2 = df2[df2['tmdb_id'].notna()]\n",
    "df2['tmdb_id'] = df2['tmdb_id'].astype(int)\n",
    "df2['imdb_id'] = df2['imdb_id'].astype(str)\n",
    "df2['imdb_id'] = df2['imdb_id'].apply(lambda x: 'tt' + x.zfill(7))"
   ]
  },
  {
   "cell_type": "code",
   "execution_count": 138,
   "id": "8832467d",
   "metadata": {},
   "outputs": [
    {
     "data": {
      "text/html": [
       "<div>\n",
       "<style scoped>\n",
       "    .dataframe tbody tr th:only-of-type {\n",
       "        vertical-align: middle;\n",
       "    }\n",
       "\n",
       "    .dataframe tbody tr th {\n",
       "        vertical-align: top;\n",
       "    }\n",
       "\n",
       "    .dataframe thead th {\n",
       "        text-align: right;\n",
       "    }\n",
       "</style>\n",
       "<table border=\"1\" class=\"dataframe\">\n",
       "  <thead>\n",
       "    <tr style=\"text-align: right;\">\n",
       "      <th></th>\n",
       "      <th>adult</th>\n",
       "      <th>belongs_to_collection</th>\n",
       "      <th>budget</th>\n",
       "      <th>genres</th>\n",
       "      <th>homepage</th>\n",
       "      <th>id</th>\n",
       "      <th>imdb_id</th>\n",
       "      <th>original_language</th>\n",
       "      <th>original_title</th>\n",
       "      <th>overview</th>\n",
       "      <th>...</th>\n",
       "      <th>revenue</th>\n",
       "      <th>runtime</th>\n",
       "      <th>spoken_languages</th>\n",
       "      <th>status</th>\n",
       "      <th>tagline</th>\n",
       "      <th>title</th>\n",
       "      <th>video</th>\n",
       "      <th>vote_average</th>\n",
       "      <th>vote_count</th>\n",
       "      <th>tmdb_id</th>\n",
       "    </tr>\n",
       "  </thead>\n",
       "  <tbody>\n",
       "    <tr>\n",
       "      <th>0</th>\n",
       "      <td>False</td>\n",
       "      <td>{'id': 10194, 'name': 'Toy Story Collection', ...</td>\n",
       "      <td>30000000</td>\n",
       "      <td>[{'id': 16, 'name': 'Animation'}, {'id': 35, '...</td>\n",
       "      <td>http://toystory.disney.com/toy-story</td>\n",
       "      <td>862</td>\n",
       "      <td>tt0114709</td>\n",
       "      <td>en</td>\n",
       "      <td>Toy Story</td>\n",
       "      <td>Led by Woody, Andy's toys live happily in his ...</td>\n",
       "      <td>...</td>\n",
       "      <td>373554033</td>\n",
       "      <td>81</td>\n",
       "      <td>[{'iso_639_1': 'en', 'name': 'English'}]</td>\n",
       "      <td>Released</td>\n",
       "      <td>&lt;NA&gt;</td>\n",
       "      <td>Toy Story</td>\n",
       "      <td>False</td>\n",
       "      <td>7.7</td>\n",
       "      <td>5415</td>\n",
       "      <td>862</td>\n",
       "    </tr>\n",
       "    <tr>\n",
       "      <th>1</th>\n",
       "      <td>False</td>\n",
       "      <td>&lt;NA&gt;</td>\n",
       "      <td>65000000</td>\n",
       "      <td>[{'id': 12, 'name': 'Adventure'}, {'id': 14, '...</td>\n",
       "      <td>&lt;NA&gt;</td>\n",
       "      <td>8844</td>\n",
       "      <td>tt0113497</td>\n",
       "      <td>en</td>\n",
       "      <td>Jumanji</td>\n",
       "      <td>When siblings Judy and Peter discover an encha...</td>\n",
       "      <td>...</td>\n",
       "      <td>262797249</td>\n",
       "      <td>104</td>\n",
       "      <td>[{'iso_639_1': 'en', 'name': 'English'}, {'iso...</td>\n",
       "      <td>Released</td>\n",
       "      <td>Roll the dice and unleash the excitement!</td>\n",
       "      <td>Jumanji</td>\n",
       "      <td>False</td>\n",
       "      <td>6.9</td>\n",
       "      <td>2413</td>\n",
       "      <td>8844</td>\n",
       "    </tr>\n",
       "    <tr>\n",
       "      <th>2</th>\n",
       "      <td>False</td>\n",
       "      <td>{'id': 119050, 'name': 'Grumpy Old Men Collect...</td>\n",
       "      <td>0</td>\n",
       "      <td>[{'id': 10749, 'name': 'Romance'}, {'id': 35, ...</td>\n",
       "      <td>&lt;NA&gt;</td>\n",
       "      <td>15602</td>\n",
       "      <td>tt0113228</td>\n",
       "      <td>en</td>\n",
       "      <td>Grumpier Old Men</td>\n",
       "      <td>A family wedding reignites the ancient feud be...</td>\n",
       "      <td>...</td>\n",
       "      <td>0</td>\n",
       "      <td>101</td>\n",
       "      <td>[{'iso_639_1': 'en', 'name': 'English'}]</td>\n",
       "      <td>Released</td>\n",
       "      <td>Still Yelling. Still Fighting. Still Ready for...</td>\n",
       "      <td>Grumpier Old Men</td>\n",
       "      <td>False</td>\n",
       "      <td>6.5</td>\n",
       "      <td>92</td>\n",
       "      <td>15602</td>\n",
       "    </tr>\n",
       "    <tr>\n",
       "      <th>3</th>\n",
       "      <td>False</td>\n",
       "      <td>&lt;NA&gt;</td>\n",
       "      <td>16000000</td>\n",
       "      <td>[{'id': 35, 'name': 'Comedy'}, {'id': 18, 'nam...</td>\n",
       "      <td>&lt;NA&gt;</td>\n",
       "      <td>31357</td>\n",
       "      <td>tt0114885</td>\n",
       "      <td>en</td>\n",
       "      <td>Waiting to Exhale</td>\n",
       "      <td>Cheated on, mistreated and stepped on, the wom...</td>\n",
       "      <td>...</td>\n",
       "      <td>81452156</td>\n",
       "      <td>127</td>\n",
       "      <td>[{'iso_639_1': 'en', 'name': 'English'}]</td>\n",
       "      <td>Released</td>\n",
       "      <td>Friends are the people who let you be yourself...</td>\n",
       "      <td>Waiting to Exhale</td>\n",
       "      <td>False</td>\n",
       "      <td>6.1</td>\n",
       "      <td>34</td>\n",
       "      <td>31357</td>\n",
       "    </tr>\n",
       "    <tr>\n",
       "      <th>4</th>\n",
       "      <td>False</td>\n",
       "      <td>{'id': 96871, 'name': 'Father of the Bride Col...</td>\n",
       "      <td>0</td>\n",
       "      <td>[{'id': 35, 'name': 'Comedy'}]</td>\n",
       "      <td>&lt;NA&gt;</td>\n",
       "      <td>11862</td>\n",
       "      <td>tt0113041</td>\n",
       "      <td>en</td>\n",
       "      <td>Father of the Bride Part II</td>\n",
       "      <td>Just when George Banks has recovered from his ...</td>\n",
       "      <td>...</td>\n",
       "      <td>76578911</td>\n",
       "      <td>106</td>\n",
       "      <td>[{'iso_639_1': 'en', 'name': 'English'}]</td>\n",
       "      <td>Released</td>\n",
       "      <td>Just When His World Is Back To Normal... He's ...</td>\n",
       "      <td>Father of the Bride Part II</td>\n",
       "      <td>False</td>\n",
       "      <td>5.7</td>\n",
       "      <td>173</td>\n",
       "      <td>11862</td>\n",
       "    </tr>\n",
       "  </tbody>\n",
       "</table>\n",
       "<p>5 rows × 25 columns</p>\n",
       "</div>"
      ],
      "text/plain": [
       "   adult                              belongs_to_collection    budget  \\\n",
       "0  False  {'id': 10194, 'name': 'Toy Story Collection', ...  30000000   \n",
       "1  False                                               <NA>  65000000   \n",
       "2  False  {'id': 119050, 'name': 'Grumpy Old Men Collect...         0   \n",
       "3  False                                               <NA>  16000000   \n",
       "4  False  {'id': 96871, 'name': 'Father of the Bride Col...         0   \n",
       "\n",
       "                                              genres  \\\n",
       "0  [{'id': 16, 'name': 'Animation'}, {'id': 35, '...   \n",
       "1  [{'id': 12, 'name': 'Adventure'}, {'id': 14, '...   \n",
       "2  [{'id': 10749, 'name': 'Romance'}, {'id': 35, ...   \n",
       "3  [{'id': 35, 'name': 'Comedy'}, {'id': 18, 'nam...   \n",
       "4                     [{'id': 35, 'name': 'Comedy'}]   \n",
       "\n",
       "                               homepage     id    imdb_id original_language  \\\n",
       "0  http://toystory.disney.com/toy-story    862  tt0114709                en   \n",
       "1                                  <NA>   8844  tt0113497                en   \n",
       "2                                  <NA>  15602  tt0113228                en   \n",
       "3                                  <NA>  31357  tt0114885                en   \n",
       "4                                  <NA>  11862  tt0113041                en   \n",
       "\n",
       "                original_title  \\\n",
       "0                    Toy Story   \n",
       "1                      Jumanji   \n",
       "2             Grumpier Old Men   \n",
       "3            Waiting to Exhale   \n",
       "4  Father of the Bride Part II   \n",
       "\n",
       "                                            overview  ...    revenue runtime  \\\n",
       "0  Led by Woody, Andy's toys live happily in his ...  ...  373554033      81   \n",
       "1  When siblings Judy and Peter discover an encha...  ...  262797249     104   \n",
       "2  A family wedding reignites the ancient feud be...  ...          0     101   \n",
       "3  Cheated on, mistreated and stepped on, the wom...  ...   81452156     127   \n",
       "4  Just when George Banks has recovered from his ...  ...   76578911     106   \n",
       "\n",
       "                                    spoken_languages    status  \\\n",
       "0           [{'iso_639_1': 'en', 'name': 'English'}]  Released   \n",
       "1  [{'iso_639_1': 'en', 'name': 'English'}, {'iso...  Released   \n",
       "2           [{'iso_639_1': 'en', 'name': 'English'}]  Released   \n",
       "3           [{'iso_639_1': 'en', 'name': 'English'}]  Released   \n",
       "4           [{'iso_639_1': 'en', 'name': 'English'}]  Released   \n",
       "\n",
       "                                             tagline  \\\n",
       "0                                               <NA>   \n",
       "1          Roll the dice and unleash the excitement!   \n",
       "2  Still Yelling. Still Fighting. Still Ready for...   \n",
       "3  Friends are the people who let you be yourself...   \n",
       "4  Just When His World Is Back To Normal... He's ...   \n",
       "\n",
       "                         title  video vote_average vote_count tmdb_id  \n",
       "0                    Toy Story  False          7.7       5415     862  \n",
       "1                      Jumanji  False          6.9       2413    8844  \n",
       "2             Grumpier Old Men  False          6.5         92   15602  \n",
       "3            Waiting to Exhale  False          6.1         34   31357  \n",
       "4  Father of the Bride Part II  False          5.7        173   11862  \n",
       "\n",
       "[5 rows x 25 columns]"
      ]
     },
     "execution_count": 138,
     "metadata": {},
     "output_type": "execute_result"
    }
   ],
   "source": [
    "df = df.merge(df2, left_on='imdb_id', right_on='imdb_id', how='inner')\n",
    "df['tmdb_id'] = df['tmdb_id'].astype(int)\n",
    "df.head()"
   ]
  },
  {
   "cell_type": "code",
   "execution_count": 143,
   "id": "5978dfb9",
   "metadata": {},
   "outputs": [
    {
     "data": {
      "text/plain": [
       "(36188, 25)"
      ]
     },
     "execution_count": 143,
     "metadata": {},
     "output_type": "execute_result"
    }
   ],
   "source": [
    "df[df['budget'] == 0].shape"
   ]
  },
  {
   "cell_type": "code",
   "execution_count": 142,
   "id": "62a9d017",
   "metadata": {},
   "outputs": [
    {
     "data": {
      "text/plain": [
       "(37660, 25)"
      ]
     },
     "execution_count": 142,
     "metadata": {},
     "output_type": "execute_result"
    }
   ],
   "source": [
    "df[df['revenue'] == 0].shape"
   ]
  },
  {
   "cell_type": "code",
   "execution_count": 144,
   "id": "aaac9d59",
   "metadata": {},
   "outputs": [],
   "source": [
    "# df[df['budget'] == 0]['tmdb_id'].to_csv('./missing_budget.csv')"
   ]
  }
 ],
 "metadata": {
  "kernelspec": {
   "display_name": "Python 3 (ipykernel)",
   "language": "python",
   "name": "python3"
  },
  "language_info": {
   "codemirror_mode": {
    "name": "ipython",
    "version": 3
   },
   "file_extension": ".py",
   "mimetype": "text/x-python",
   "name": "python",
   "nbconvert_exporter": "python",
   "pygments_lexer": "ipython3",
   "version": "3.11.9"
  }
 },
 "nbformat": 4,
 "nbformat_minor": 5
}
