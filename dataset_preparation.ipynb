{
 "cells": [
  {
   "cell_type": "code",
   "execution_count": 42,
   "id": "138d9d48",
   "metadata": {},
   "outputs": [],
   "source": [
    "import pandas as pd\n",
    "import numpy as np\n",
    "from ast import literal_eval"
   ]
  },
  {
   "cell_type": "code",
   "execution_count": 43,
   "id": "7af31168",
   "metadata": {},
   "outputs": [
    {
     "name": "stderr",
     "output_type": "stream",
     "text": [
      "/tmp/ipykernel_71894/2299916687.py:1: DtypeWarning: Columns (10) have mixed types. Specify dtype option on import or set low_memory=False.\n",
      "  df = pd.read_csv('./movies_metadata.csv')\n"
     ]
    }
   ],
   "source": [
    "df = pd.read_csv('./movies_metadata.csv')\n",
    "# [19730, 29503, 35587]\n",
    "df = df.drop([19730, 29503, 35587])"
   ]
  },
  {
   "cell_type": "markdown",
   "id": "8a898e4a",
   "metadata": {},
   "source": [
    "Узнаем, какие данные есть в датасете"
   ]
  },
  {
   "cell_type": "code",
   "execution_count": 44,
   "id": "b20a023b",
   "metadata": {},
   "outputs": [
    {
     "data": {
      "text/plain": [
       "adult                    string[python]\n",
       "belongs_to_collection    string[python]\n",
       "budget                   string[python]\n",
       "genres                   string[python]\n",
       "homepage                 string[python]\n",
       "id                       string[python]\n",
       "imdb_id                  string[python]\n",
       "original_language        string[python]\n",
       "original_title           string[python]\n",
       "overview                 string[python]\n",
       "popularity                       object\n",
       "poster_path              string[python]\n",
       "production_companies     string[python]\n",
       "production_countries     string[python]\n",
       "release_date             string[python]\n",
       "revenue                           Int64\n",
       "runtime                           Int64\n",
       "spoken_languages         string[python]\n",
       "status                   string[python]\n",
       "tagline                  string[python]\n",
       "title                    string[python]\n",
       "video                           boolean\n",
       "vote_average                    Float64\n",
       "vote_count                        Int64\n",
       "dtype: object"
      ]
     },
     "execution_count": 44,
     "metadata": {},
     "output_type": "execute_result"
    }
   ],
   "source": [
    "df = df.convert_dtypes()\n",
    "df.dtypes"
   ]
  },
  {
   "cell_type": "code",
   "execution_count": 45,
   "id": "6a61597f",
   "metadata": {},
   "outputs": [],
   "source": [
    "df['id'] = df['id'].astype(int)"
   ]
  },
  {
   "cell_type": "code",
   "execution_count": 46,
   "id": "5bcb829a",
   "metadata": {},
   "outputs": [
    {
     "data": {
      "text/plain": [
       "adult                    False\n",
       "belongs_to_collection     True\n",
       "budget                   False\n",
       "genres                   False\n",
       "homepage                  True\n",
       "id                       False\n",
       "imdb_id                   True\n",
       "original_language         True\n",
       "original_title           False\n",
       "overview                  True\n",
       "popularity                True\n",
       "poster_path               True\n",
       "production_companies      True\n",
       "production_countries      True\n",
       "release_date              True\n",
       "revenue                   True\n",
       "runtime                   True\n",
       "spoken_languages          True\n",
       "status                    True\n",
       "tagline                   True\n",
       "title                     True\n",
       "video                     True\n",
       "vote_average              True\n",
       "vote_count                True\n",
       "dtype: bool"
      ]
     },
     "execution_count": 46,
     "metadata": {},
     "output_type": "execute_result"
    }
   ],
   "source": [
    "df.isnull().any()"
   ]
  },
  {
   "cell_type": "markdown",
   "id": "2765eb62",
   "metadata": {},
   "source": [
    "Удаляем следующие столбцы:\n",
    "* `adults` - поскольку в дальнейшем будет добавлен столбец в возвратным рейтингом фильма MPAA\n",
    "* `belongs_to_collection`\n",
    "* `homepage`\n",
    "* `popularity` - эта метрика [высчитывается](https://developer.themoviedb.org/docs/popularity-and-trending) для фильма каждый день, поэтому она актуальна в тот момент, когда были собраны данные в датасете\n",
    "* `poster_path`\n",
    "* `video`"
   ]
  },
  {
   "cell_type": "code",
   "execution_count": 47,
   "id": "967306d8",
   "metadata": {},
   "outputs": [],
   "source": [
    "df = df.drop(columns=['adult', 'belongs_to_collection', 'homepage', 'popularity', 'poster_path', 'video'], axis=1)"
   ]
  },
  {
   "cell_type": "markdown",
   "id": "c7e4cbb0",
   "metadata": {},
   "source": [
    "Посмотрим, у скольки записей есть целевая переменная: сборы (`revenue`)"
   ]
  },
  {
   "cell_type": "code",
   "execution_count": 48,
   "id": "c8a9297b",
   "metadata": {},
   "outputs": [
    {
     "data": {
      "text/plain": [
       "(7408, 18)"
      ]
     },
     "execution_count": 48,
     "metadata": {},
     "output_type": "execute_result"
    }
   ],
   "source": [
    "df[(df['revenue'].notna()) & (df['revenue'] != 0)].shape"
   ]
  },
  {
   "cell_type": "markdown",
   "id": "f6f3ddf3",
   "metadata": {},
   "source": [
    "Добавляем в исходный датасет данные, полученные с сайта Box Office Mojo."
   ]
  },
  {
   "cell_type": "code",
   "execution_count": 49,
   "id": "14300366",
   "metadata": {},
   "outputs": [
    {
     "data": {
      "text/html": [
       "<div>\n",
       "<style scoped>\n",
       "    .dataframe tbody tr th:only-of-type {\n",
       "        vertical-align: middle;\n",
       "    }\n",
       "\n",
       "    .dataframe tbody tr th {\n",
       "        vertical-align: top;\n",
       "    }\n",
       "\n",
       "    .dataframe thead th {\n",
       "        text-align: right;\n",
       "    }\n",
       "</style>\n",
       "<table border=\"1\" class=\"dataframe\">\n",
       "  <thead>\n",
       "    <tr style=\"text-align: right;\">\n",
       "      <th></th>\n",
       "      <th>imdb_id</th>\n",
       "      <th>domestic_distributor</th>\n",
       "      <th>domestic_opening</th>\n",
       "      <th>budget</th>\n",
       "      <th>mpaa</th>\n",
       "      <th>running_time</th>\n",
       "      <th>genres</th>\n",
       "      <th>domestic_revenue</th>\n",
       "      <th>international_revenue</th>\n",
       "      <th>worldwide_revenue</th>\n",
       "    </tr>\n",
       "  </thead>\n",
       "  <tbody>\n",
       "    <tr>\n",
       "      <th>0</th>\n",
       "      <td>tt0113041</td>\n",
       "      <td>Walt Disney Studios Motion Pictures</td>\n",
       "      <td>11134978</td>\n",
       "      <td>0</td>\n",
       "      <td>PG</td>\n",
       "      <td>1 hr 46 min</td>\n",
       "      <td>Comedy Family Romance</td>\n",
       "      <td>76594107</td>\n",
       "      <td>0</td>\n",
       "      <td>76594107</td>\n",
       "    </tr>\n",
       "    <tr>\n",
       "      <th>1</th>\n",
       "      <td>tt0113228</td>\n",
       "      <td>Warner Bros.</td>\n",
       "      <td>7797185</td>\n",
       "      <td>0</td>\n",
       "      <td>PG-13</td>\n",
       "      <td>1 hr 41 min</td>\n",
       "      <td>Comedy Romance</td>\n",
       "      <td>71518503</td>\n",
       "      <td>0</td>\n",
       "      <td>71518503</td>\n",
       "    </tr>\n",
       "    <tr>\n",
       "      <th>2</th>\n",
       "      <td>tt0112760</td>\n",
       "      <td>Metro-Goldwyn-Mayer (MGM)</td>\n",
       "      <td>2371415</td>\n",
       "      <td>98000000</td>\n",
       "      <td>PG-13</td>\n",
       "      <td>2 hr 4 min</td>\n",
       "      <td>Action Adventure Comedy</td>\n",
       "      <td>10017322</td>\n",
       "      <td>0</td>\n",
       "      <td>10017322</td>\n",
       "    </tr>\n",
       "    <tr>\n",
       "      <th>3</th>\n",
       "      <td>tt0114576</td>\n",
       "      <td>Universal Pictures</td>\n",
       "      <td>4782445</td>\n",
       "      <td>0</td>\n",
       "      <td>R</td>\n",
       "      <td>1 hr 51 min</td>\n",
       "      <td>Action Crime Thriller</td>\n",
       "      <td>20350171</td>\n",
       "      <td>44000000</td>\n",
       "      <td>64350171</td>\n",
       "    </tr>\n",
       "    <tr>\n",
       "      <th>4</th>\n",
       "      <td>tt0112453</td>\n",
       "      <td>Universal Pictures</td>\n",
       "      <td>1519755</td>\n",
       "      <td>0</td>\n",
       "      <td>NaN</td>\n",
       "      <td>1 hr 18 min</td>\n",
       "      <td>Adventure Animation Drama Family History</td>\n",
       "      <td>11348324</td>\n",
       "      <td>766</td>\n",
       "      <td>11349090</td>\n",
       "    </tr>\n",
       "  </tbody>\n",
       "</table>\n",
       "</div>"
      ],
      "text/plain": [
       "     imdb_id                 domestic_distributor  domestic_opening    budget  \\\n",
       "0  tt0113041  Walt Disney Studios Motion Pictures          11134978         0   \n",
       "1  tt0113228                         Warner Bros.           7797185         0   \n",
       "2  tt0112760            Metro-Goldwyn-Mayer (MGM)           2371415  98000000   \n",
       "3  tt0114576                   Universal Pictures           4782445         0   \n",
       "4  tt0112453                   Universal Pictures           1519755         0   \n",
       "\n",
       "    mpaa running_time                                    genres  \\\n",
       "0     PG  1 hr 46 min                     Comedy Family Romance   \n",
       "1  PG-13  1 hr 41 min                            Comedy Romance   \n",
       "2  PG-13   2 hr 4 min                   Action Adventure Comedy   \n",
       "3      R  1 hr 51 min                     Action Crime Thriller   \n",
       "4    NaN  1 hr 18 min  Adventure Animation Drama Family History   \n",
       "\n",
       "   domestic_revenue  international_revenue  worldwide_revenue  \n",
       "0          76594107                      0           76594107  \n",
       "1          71518503                      0           71518503  \n",
       "2          10017322                      0           10017322  \n",
       "3          20350171               44000000           64350171  \n",
       "4          11348324                    766           11349090  "
      ]
     },
     "execution_count": 49,
     "metadata": {},
     "output_type": "execute_result"
    }
   ],
   "source": [
    "df_mojo = pd.read_csv('./scrapper/result.csv')\n",
    "df_mojo.head()"
   ]
  },
  {
   "cell_type": "markdown",
   "id": "9b206fb4",
   "metadata": {},
   "source": [
    "Удаляем поля, которые уже есть в исходном датасете.\n",
    "`running_time` можно удалять, т.к. в исходных данных он проставлен практическиу всех фильмов."
   ]
  },
  {
   "cell_type": "code",
   "execution_count": 50,
   "id": "2fa2f7ad",
   "metadata": {},
   "outputs": [],
   "source": [
    "df_mojo = df_mojo.drop(['domestic_revenue', 'international_revenue', 'running_time', 'genres'], axis=1)\n",
    "df_mojo.rename(columns={'budget': 'scrapped_budget'}, inplace=True)"
   ]
  },
  {
   "cell_type": "code",
   "execution_count": 51,
   "id": "1d8fe3d2",
   "metadata": {},
   "outputs": [],
   "source": [
    "df = df.merge(df_mojo, on=['imdb_id'], how='inner')"
   ]
  },
  {
   "cell_type": "markdown",
   "id": "afef7043",
   "metadata": {},
   "source": [
    "Дополняем инфоормацию о бюджете и сборах исходного датасета с помощью данных с Box Office Mojo"
   ]
  },
  {
   "cell_type": "code",
   "execution_count": 52,
   "id": "d05f0413",
   "metadata": {},
   "outputs": [],
   "source": [
    "def fill_zero_fileds(field_1, field_2):\n",
    "    def f(row):\n",
    "        if row[field_1] != 0:\n",
    "            return row[field_1]\n",
    "        return row[field_2]\n",
    "    \n",
    "    return f\n",
    "\n",
    "df['new_budget'] = df.apply(fill_zero_fileds('budget', 'scrapped_budget'), axis=1)\n",
    "df['new_revenue'] = df.apply(fill_zero_fileds('revenue', 'worldwide_revenue'), axis=1)\n",
    "df = df.drop(columns=['budget', 'scrapped_budget', 'revenue', 'worldwide_revenue'], axis=1)\n",
    "df = df.rename(columns={'new_budget': 'budget', 'new_revenue': 'revenue'})"
   ]
  },
  {
   "cell_type": "code",
   "execution_count": 53,
   "id": "c95e0026",
   "metadata": {},
   "outputs": [
    {
     "data": {
      "text/plain": [
       "(20260, 21)"
      ]
     },
     "execution_count": 53,
     "metadata": {},
     "output_type": "execute_result"
    }
   ],
   "source": [
    "df[df['revenue'] != 0].shape"
   ]
  },
  {
   "cell_type": "markdown",
   "id": "038aa5a7",
   "metadata": {},
   "source": [
    "Как видно, количество \"валидных\" записей увеличилось с 7 тыс. до 20 тыс."
   ]
  },
  {
   "cell_type": "markdown",
   "id": "2eb5c174",
   "metadata": {},
   "source": [
    "Удалим строки, в которых неизвестна целевая переменная: сборы (`revenue`)"
   ]
  },
  {
   "cell_type": "code",
   "execution_count": 54,
   "id": "a30cc5ea",
   "metadata": {},
   "outputs": [],
   "source": [
    "df = df[(df['revenue'].notna()) & (df['revenue'] != 0)]"
   ]
  },
  {
   "cell_type": "markdown",
   "id": "94fb1c3c",
   "metadata": {},
   "source": [
    "Поскольку столцбы `genres`, `production_companies`, `production_countries` и `spoken_languages` представляют собой список словарей, нужно их обработать отдельно."
   ]
  },
  {
   "cell_type": "code",
   "execution_count": 55,
   "id": "00cd12fe",
   "metadata": {},
   "outputs": [],
   "source": [
    "def get_value_from_dict(column, key):\n",
    "    def f(row):\n",
    "        dicts = literal_eval(row[column])\n",
    "        res = []\n",
    "        for c in dicts:\n",
    "            res.append(c[key])\n",
    "        if len(res) == 0:\n",
    "            return np.NAN\n",
    "        return res\n",
    "\n",
    "    return f\n",
    "\n",
    "df['genres'] = df.apply(get_value_from_dict('genres', 'name'), axis=1)\n",
    "df['production_companies'] = df.apply(get_value_from_dict('production_companies', 'name'), axis=1)\n",
    "df['production_countries'] = df.apply(get_value_from_dict('production_countries', 'iso_3166_1'), axis=1)\n",
    "df['spoken_languages'] = df.apply(get_value_from_dict('spoken_languages', 'iso_639_1'), axis=1)"
   ]
  },
  {
   "cell_type": "markdown",
   "id": "cb776eb3",
   "metadata": {},
   "source": [
    "Теперь нужно добавить информацию об актерах и режиссере"
   ]
  },
  {
   "cell_type": "code",
   "execution_count": 56,
   "id": "deec3c6f",
   "metadata": {},
   "outputs": [],
   "source": [
    "credit_df = pd.read_csv('./credits.csv')\n",
    "\n",
    "def get_3_actors(row):\n",
    "    cast = literal_eval(row['cast'])\n",
    "    cast = sorted(cast, key=lambda x: x['order'])\n",
    "    cast = list(map(lambda x: x['name'], cast))\n",
    "    return cast[:3]\n",
    "\n",
    "def get_director(row):\n",
    "    crew = literal_eval(row['crew'])\n",
    "    for c in crew:\n",
    "        if c['job'] == 'Director':\n",
    "            return c['name']\n",
    "    return np.NAN\n",
    "\n",
    "credit_df['actors'] = credit_df.apply(get_3_actors, axis=1)\n",
    "\n",
    "credit_df['director'] = credit_df.apply(get_director, axis=1)\n",
    "\n",
    "credit_df = credit_df.drop(columns=['cast', 'crew'], axis=1)\n",
    "\n",
    "df = df.merge(credit_df, on=['id'], how='inner')"
   ]
  },
  {
   "cell_type": "code",
   "execution_count": 59,
   "id": "d5ff03c6",
   "metadata": {},
   "outputs": [],
   "source": [
    "df.to_csv('./movie_dataset.csv')"
   ]
  }
 ],
 "metadata": {
  "kernelspec": {
   "display_name": "Python 3 (ipykernel)",
   "language": "python",
   "name": "python3"
  },
  "language_info": {
   "codemirror_mode": {
    "name": "ipython",
    "version": 3
   },
   "file_extension": ".py",
   "mimetype": "text/x-python",
   "name": "python",
   "nbconvert_exporter": "python",
   "pygments_lexer": "ipython3",
   "version": "3.11.9"
  }
 },
 "nbformat": 4,
 "nbformat_minor": 5
}
