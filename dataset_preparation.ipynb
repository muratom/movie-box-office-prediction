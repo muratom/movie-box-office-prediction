{
 "cells": [
  {
   "cell_type": "code",
   "execution_count": 1,
   "id": "138d9d48",
   "metadata": {},
   "outputs": [],
   "source": [
    "import pandas as pd\n",
    "import numpy as np\n",
    "from ast import literal_eval"
   ]
  },
  {
   "cell_type": "code",
   "execution_count": 2,
   "id": "6e51529d",
   "metadata": {},
   "outputs": [],
   "source": [
    "data_prefix = './unprocessed_data'"
   ]
  },
  {
   "cell_type": "code",
   "execution_count": 3,
   "id": "7af31168",
   "metadata": {},
   "outputs": [
    {
     "name": "stderr",
     "output_type": "stream",
     "text": [
      "/tmp/ipykernel_16781/2015830793.py:1: DtypeWarning: Columns (10) have mixed types. Specify dtype option on import or set low_memory=False.\n",
      "  df_metadata = pd.read_csv(f'{data_prefix}/movies_metadata.csv')\n"
     ]
    }
   ],
   "source": [
    "df_metadata = pd.read_csv(f'{data_prefix}/movies_metadata.csv')\n",
    "df_metadata = df_metadata.drop([19730, 29503, 35587])"
   ]
  },
  {
   "cell_type": "markdown",
   "id": "8a898e4a",
   "metadata": {},
   "source": [
    "Узнаем, какие данные есть в датасете"
   ]
  },
  {
   "cell_type": "code",
   "execution_count": 4,
   "id": "b20a023b",
   "metadata": {},
   "outputs": [
    {
     "data": {
      "text/plain": [
       "adult                    string[python]\n",
       "belongs_to_collection    string[python]\n",
       "budget                   string[python]\n",
       "genres                   string[python]\n",
       "homepage                 string[python]\n",
       "id                       string[python]\n",
       "imdb_id                  string[python]\n",
       "original_language        string[python]\n",
       "original_title           string[python]\n",
       "overview                 string[python]\n",
       "popularity                       object\n",
       "poster_path              string[python]\n",
       "production_companies     string[python]\n",
       "production_countries     string[python]\n",
       "release_date             string[python]\n",
       "revenue                           Int64\n",
       "runtime                           Int64\n",
       "spoken_languages         string[python]\n",
       "status                   string[python]\n",
       "tagline                  string[python]\n",
       "title                    string[python]\n",
       "video                           boolean\n",
       "vote_average                    Float64\n",
       "vote_count                        Int64\n",
       "dtype: object"
      ]
     },
     "execution_count": 4,
     "metadata": {},
     "output_type": "execute_result"
    }
   ],
   "source": [
    "df_metadata = df_metadata.convert_dtypes()\n",
    "df_metadata.dtypes"
   ]
  },
  {
   "cell_type": "code",
   "execution_count": 5,
   "id": "6a61597f",
   "metadata": {},
   "outputs": [],
   "source": [
    "df_metadata['id'] = df_metadata['id'].astype(int)"
   ]
  },
  {
   "cell_type": "code",
   "execution_count": 6,
   "id": "5bcb829a",
   "metadata": {},
   "outputs": [
    {
     "data": {
      "text/plain": [
       "adult                    False\n",
       "belongs_to_collection     True\n",
       "budget                   False\n",
       "genres                   False\n",
       "homepage                  True\n",
       "id                       False\n",
       "imdb_id                   True\n",
       "original_language         True\n",
       "original_title           False\n",
       "overview                  True\n",
       "popularity                True\n",
       "poster_path               True\n",
       "production_companies      True\n",
       "production_countries      True\n",
       "release_date              True\n",
       "revenue                   True\n",
       "runtime                   True\n",
       "spoken_languages          True\n",
       "status                    True\n",
       "tagline                   True\n",
       "title                     True\n",
       "video                     True\n",
       "vote_average              True\n",
       "vote_count                True\n",
       "dtype: bool"
      ]
     },
     "execution_count": 6,
     "metadata": {},
     "output_type": "execute_result"
    }
   ],
   "source": [
    "df_metadata.isnull().any()"
   ]
  },
  {
   "cell_type": "markdown",
   "id": "2765eb62",
   "metadata": {},
   "source": [
    "Удаляем следующие столбцы:\n",
    "* `adults` - поскольку в дальнейшем будет добавлен столбец в возвратным рейтингом фильма MPAA\n",
    "* `belongs_to_collection`\n",
    "* `homepage`\n",
    "* `popularity` - эта метрика [высчитывается](https://developer.themoviedb.org/docs/popularity-and-trending) для фильма каждый день, поэтому она актуальна в тот момент, когда были собраны данные в датасете\n",
    "* `poster_path`\n",
    "* `video`"
   ]
  },
  {
   "cell_type": "code",
   "execution_count": 7,
   "id": "967306d8",
   "metadata": {},
   "outputs": [],
   "source": [
    "df_metadata = df_metadata.drop(columns=['adult', 'belongs_to_collection', 'homepage', 'popularity', 'poster_path', 'video'], axis=1)"
   ]
  },
  {
   "cell_type": "markdown",
   "id": "c7e4cbb0",
   "metadata": {},
   "source": [
    "Посмотрим, у скольки записей есть целевая переменная: сборы (`revenue`)"
   ]
  },
  {
   "cell_type": "code",
   "execution_count": 8,
   "id": "c8a9297b",
   "metadata": {},
   "outputs": [
    {
     "data": {
      "text/plain": [
       "(7408, 18)"
      ]
     },
     "execution_count": 8,
     "metadata": {},
     "output_type": "execute_result"
    }
   ],
   "source": [
    "df_metadata[(df_metadata['revenue'].notna()) & (df_metadata['revenue'] != 0)].shape"
   ]
  },
  {
   "cell_type": "markdown",
   "id": "f6f3ddf3",
   "metadata": {},
   "source": [
    "Добавляем в исходный датасет данные, полученные с сайта Box Office Mojo."
   ]
  },
  {
   "cell_type": "code",
   "execution_count": 9,
   "id": "14300366",
   "metadata": {},
   "outputs": [
    {
     "data": {
      "text/html": [
       "<div>\n",
       "<style scoped>\n",
       "    .dataframe tbody tr th:only-of-type {\n",
       "        vertical-align: middle;\n",
       "    }\n",
       "\n",
       "    .dataframe tbody tr th {\n",
       "        vertical-align: top;\n",
       "    }\n",
       "\n",
       "    .dataframe thead th {\n",
       "        text-align: right;\n",
       "    }\n",
       "</style>\n",
       "<table border=\"1\" class=\"dataframe\">\n",
       "  <thead>\n",
       "    <tr style=\"text-align: right;\">\n",
       "      <th></th>\n",
       "      <th>imdb_id</th>\n",
       "      <th>domestic_distributor</th>\n",
       "      <th>domestic_opening</th>\n",
       "      <th>budget</th>\n",
       "      <th>mpaa</th>\n",
       "      <th>running_time</th>\n",
       "      <th>genres</th>\n",
       "      <th>domestic_revenue</th>\n",
       "      <th>international_revenue</th>\n",
       "      <th>worldwide_revenue</th>\n",
       "    </tr>\n",
       "  </thead>\n",
       "  <tbody>\n",
       "    <tr>\n",
       "      <th>0</th>\n",
       "      <td>tt0113041</td>\n",
       "      <td>Walt Disney Studios Motion Pictures</td>\n",
       "      <td>11134978</td>\n",
       "      <td>0</td>\n",
       "      <td>PG</td>\n",
       "      <td>1 hr 46 min</td>\n",
       "      <td>Comedy Family Romance</td>\n",
       "      <td>76594107</td>\n",
       "      <td>0</td>\n",
       "      <td>76594107</td>\n",
       "    </tr>\n",
       "    <tr>\n",
       "      <th>1</th>\n",
       "      <td>tt0113228</td>\n",
       "      <td>Warner Bros.</td>\n",
       "      <td>7797185</td>\n",
       "      <td>0</td>\n",
       "      <td>PG-13</td>\n",
       "      <td>1 hr 41 min</td>\n",
       "      <td>Comedy Romance</td>\n",
       "      <td>71518503</td>\n",
       "      <td>0</td>\n",
       "      <td>71518503</td>\n",
       "    </tr>\n",
       "    <tr>\n",
       "      <th>2</th>\n",
       "      <td>tt0112760</td>\n",
       "      <td>Metro-Goldwyn-Mayer (MGM)</td>\n",
       "      <td>2371415</td>\n",
       "      <td>98000000</td>\n",
       "      <td>PG-13</td>\n",
       "      <td>2 hr 4 min</td>\n",
       "      <td>Action Adventure Comedy</td>\n",
       "      <td>10017322</td>\n",
       "      <td>0</td>\n",
       "      <td>10017322</td>\n",
       "    </tr>\n",
       "    <tr>\n",
       "      <th>3</th>\n",
       "      <td>tt0114576</td>\n",
       "      <td>Universal Pictures</td>\n",
       "      <td>4782445</td>\n",
       "      <td>0</td>\n",
       "      <td>R</td>\n",
       "      <td>1 hr 51 min</td>\n",
       "      <td>Action Crime Thriller</td>\n",
       "      <td>20350171</td>\n",
       "      <td>44000000</td>\n",
       "      <td>64350171</td>\n",
       "    </tr>\n",
       "    <tr>\n",
       "      <th>4</th>\n",
       "      <td>tt0112453</td>\n",
       "      <td>Universal Pictures</td>\n",
       "      <td>1519755</td>\n",
       "      <td>0</td>\n",
       "      <td>NaN</td>\n",
       "      <td>1 hr 18 min</td>\n",
       "      <td>Adventure Animation Drama Family History</td>\n",
       "      <td>11348324</td>\n",
       "      <td>766</td>\n",
       "      <td>11349090</td>\n",
       "    </tr>\n",
       "  </tbody>\n",
       "</table>\n",
       "</div>"
      ],
      "text/plain": [
       "     imdb_id                 domestic_distributor  domestic_opening    budget  \\\n",
       "0  tt0113041  Walt Disney Studios Motion Pictures          11134978         0   \n",
       "1  tt0113228                         Warner Bros.           7797185         0   \n",
       "2  tt0112760            Metro-Goldwyn-Mayer (MGM)           2371415  98000000   \n",
       "3  tt0114576                   Universal Pictures           4782445         0   \n",
       "4  tt0112453                   Universal Pictures           1519755         0   \n",
       "\n",
       "    mpaa running_time                                    genres  \\\n",
       "0     PG  1 hr 46 min                     Comedy Family Romance   \n",
       "1  PG-13  1 hr 41 min                            Comedy Romance   \n",
       "2  PG-13   2 hr 4 min                   Action Adventure Comedy   \n",
       "3      R  1 hr 51 min                     Action Crime Thriller   \n",
       "4    NaN  1 hr 18 min  Adventure Animation Drama Family History   \n",
       "\n",
       "   domestic_revenue  international_revenue  worldwide_revenue  \n",
       "0          76594107                      0           76594107  \n",
       "1          71518503                      0           71518503  \n",
       "2          10017322                      0           10017322  \n",
       "3          20350171               44000000           64350171  \n",
       "4          11348324                    766           11349090  "
      ]
     },
     "execution_count": 9,
     "metadata": {},
     "output_type": "execute_result"
    }
   ],
   "source": [
    "df_mojo = pd.read_csv('./scrapper/result.csv')\n",
    "df_mojo.head()"
   ]
  },
  {
   "cell_type": "markdown",
   "id": "9b206fb4",
   "metadata": {},
   "source": [
    "Удаляем поля, которые уже есть в исходном датасете.\n",
    "`running_time` можно удалять, т.к. в исходных данных он проставлен практическиу всех фильмов."
   ]
  },
  {
   "cell_type": "code",
   "execution_count": 10,
   "id": "2fa2f7ad",
   "metadata": {},
   "outputs": [],
   "source": [
    "df_mojo = df_mojo.drop(['domestic_revenue', 'international_revenue', 'running_time', 'genres'], axis=1)\n",
    "df_mojo.rename(columns={'budget': 'scrapped_budget'}, inplace=True)"
   ]
  },
  {
   "cell_type": "code",
   "execution_count": 11,
   "id": "1d8fe3d2",
   "metadata": {},
   "outputs": [],
   "source": [
    "df = df_metadata.merge(df_mojo, on=['imdb_id'], how='inner')"
   ]
  },
  {
   "cell_type": "markdown",
   "id": "afef7043",
   "metadata": {},
   "source": [
    "Дополняем инфоормацию о бюджете и сборах исходного датасета с помощью данных с Box Office Mojo"
   ]
  },
  {
   "cell_type": "code",
   "execution_count": 12,
   "id": "d05f0413",
   "metadata": {},
   "outputs": [],
   "source": [
    "def fill_zero_fileds(field_1, field_2):\n",
    "    def f(row):\n",
    "        if row[field_1] != 0:\n",
    "            return row[field_1]\n",
    "        return row[field_2]\n",
    "    \n",
    "    return f\n",
    "\n",
    "df['new_budget'] = df.apply(fill_zero_fileds('budget', 'scrapped_budget'), axis=1)\n",
    "df['new_revenue'] = df.apply(fill_zero_fileds('revenue', 'worldwide_revenue'), axis=1)\n",
    "df = df.drop(columns=['budget', 'scrapped_budget', 'revenue', 'worldwide_revenue'], axis=1)\n",
    "df = df.rename(columns={'new_budget': 'budget', 'new_revenue': 'revenue'})"
   ]
  },
  {
   "cell_type": "code",
   "execution_count": 13,
   "id": "c95e0026",
   "metadata": {},
   "outputs": [
    {
     "data": {
      "text/plain": [
       "(20260, 21)"
      ]
     },
     "execution_count": 13,
     "metadata": {},
     "output_type": "execute_result"
    }
   ],
   "source": [
    "df[df['revenue'] != 0].shape"
   ]
  },
  {
   "cell_type": "markdown",
   "id": "038aa5a7",
   "metadata": {},
   "source": [
    "Как видно, количество \"валидных\" записей увеличилось с 7 тыс. до 20 тыс."
   ]
  },
  {
   "cell_type": "markdown",
   "id": "2eb5c174",
   "metadata": {},
   "source": [
    "Удалим строки, в которых неизвестна целевая переменная: сборы (`revenue`)"
   ]
  },
  {
   "cell_type": "code",
   "execution_count": 14,
   "id": "a30cc5ea",
   "metadata": {},
   "outputs": [],
   "source": [
    "df = df[(df['revenue'].notna()) & (df['revenue'] != 0)]"
   ]
  },
  {
   "cell_type": "markdown",
   "id": "94fb1c3c",
   "metadata": {},
   "source": [
    "Поскольку столцбы `genres`, `production_companies`, `production_countries` и `spoken_languages` представляют собой список словарей, нужно их обработать отдельно."
   ]
  },
  {
   "cell_type": "code",
   "execution_count": 15,
   "id": "00cd12fe",
   "metadata": {},
   "outputs": [],
   "source": [
    "def get_value_from_dict(column, key):\n",
    "    def f(row):\n",
    "        dicts = literal_eval(row[column])\n",
    "        res = []\n",
    "        for c in dicts:\n",
    "            res.append(c[key])\n",
    "        if len(res) == 0:\n",
    "            return np.NAN\n",
    "        return res\n",
    "\n",
    "    return f\n",
    "\n",
    "df['genres'] = df.apply(get_value_from_dict('genres', 'name'), axis=1)\n",
    "df['production_companies'] = df.apply(get_value_from_dict('production_companies', 'name'), axis=1)\n",
    "df['production_countries'] = df.apply(get_value_from_dict('production_countries', 'iso_3166_1'), axis=1)\n",
    "df['spoken_languages'] = df.apply(get_value_from_dict('spoken_languages', 'iso_639_1'), axis=1)"
   ]
  },
  {
   "cell_type": "markdown",
   "id": "cb776eb3",
   "metadata": {},
   "source": [
    "Теперь нужно добавить информацию об актерах и режиссере"
   ]
  },
  {
   "cell_type": "code",
   "execution_count": null,
   "id": "deec3c6f",
   "metadata": {},
   "outputs": [],
   "source": [
    "df_credits = pd.read_csv(f'{data_prefix}/credits.csv')\n",
    "\n",
    "def get_3_actors(row):\n",
    "    cast = literal_eval(row['cast'])\n",
    "    cast = sorted(cast, key=lambda x: x['order'])\n",
    "    cast = list(map(lambda x: x['name'], cast))\n",
    "    return cast[:3]\n",
    "\n",
    "def get_director(row):\n",
    "    crew = literal_eval(row['crew'])\n",
    "    for c in crew:\n",
    "        if c['job'] == 'Director':\n",
    "            return c['name']\n",
    "    return np.NAN\n",
    "\n",
    "df_credits['actors'] = df_credits.apply(get_3_actors, axis=1)\n",
    "\n",
    "df_credits['director'] = df_credits.apply(get_director, axis=1)\n",
    "\n",
    "df_credits = df_credits.drop(columns=['cast', 'crew'], axis=1)\n",
    "\n",
    "df = df.merge(df_credits, on=['id'], how='inner')"
   ]
  },
  {
   "cell_type": "code",
   "execution_count": null,
   "id": "cf93cbc5",
   "metadata": {},
   "outputs": [
    {
     "data": {
      "text/html": [
       "<div>\n",
       "<style scoped>\n",
       "    .dataframe tbody tr th:only-of-type {\n",
       "        vertical-align: middle;\n",
       "    }\n",
       "\n",
       "    .dataframe tbody tr th {\n",
       "        vertical-align: top;\n",
       "    }\n",
       "\n",
       "    .dataframe thead th {\n",
       "        text-align: right;\n",
       "    }\n",
       "</style>\n",
       "<table border=\"1\" class=\"dataframe\">\n",
       "  <thead>\n",
       "    <tr style=\"text-align: right;\">\n",
       "      <th></th>\n",
       "      <th>imdb_id</th>\n",
       "      <th>Imdb Link</th>\n",
       "      <th>Title</th>\n",
       "      <th>IMDB Score</th>\n",
       "      <th>Genre</th>\n",
       "      <th>poster</th>\n",
       "    </tr>\n",
       "  </thead>\n",
       "  <tbody>\n",
       "    <tr>\n",
       "      <th>0</th>\n",
       "      <td>114709</td>\n",
       "      <td>http://www.imdb.com/title/tt114709</td>\n",
       "      <td>Toy Story (1995)</td>\n",
       "      <td>8.3</td>\n",
       "      <td>Animation|Adventure|Comedy</td>\n",
       "      <td>https://images-na.ssl-images-amazon.com/images...</td>\n",
       "    </tr>\n",
       "    <tr>\n",
       "      <th>1</th>\n",
       "      <td>113497</td>\n",
       "      <td>http://www.imdb.com/title/tt113497</td>\n",
       "      <td>Jumanji (1995)</td>\n",
       "      <td>6.9</td>\n",
       "      <td>Action|Adventure|Family</td>\n",
       "      <td>https://images-na.ssl-images-amazon.com/images...</td>\n",
       "    </tr>\n",
       "    <tr>\n",
       "      <th>2</th>\n",
       "      <td>113228</td>\n",
       "      <td>http://www.imdb.com/title/tt113228</td>\n",
       "      <td>Grumpier Old Men (1995)</td>\n",
       "      <td>6.6</td>\n",
       "      <td>Comedy|Romance</td>\n",
       "      <td>https://images-na.ssl-images-amazon.com/images...</td>\n",
       "    </tr>\n",
       "    <tr>\n",
       "      <th>3</th>\n",
       "      <td>114885</td>\n",
       "      <td>http://www.imdb.com/title/tt114885</td>\n",
       "      <td>Waiting to Exhale (1995)</td>\n",
       "      <td>5.7</td>\n",
       "      <td>Comedy|Drama|Romance</td>\n",
       "      <td>https://images-na.ssl-images-amazon.com/images...</td>\n",
       "    </tr>\n",
       "    <tr>\n",
       "      <th>4</th>\n",
       "      <td>113041</td>\n",
       "      <td>http://www.imdb.com/title/tt113041</td>\n",
       "      <td>Father of the Bride Part II (1995)</td>\n",
       "      <td>5.9</td>\n",
       "      <td>Comedy|Family|Romance</td>\n",
       "      <td>https://images-na.ssl-images-amazon.com/images...</td>\n",
       "    </tr>\n",
       "  </tbody>\n",
       "</table>\n",
       "</div>"
      ],
      "text/plain": [
       "   imdb_id                           Imdb Link  \\\n",
       "0   114709  http://www.imdb.com/title/tt114709   \n",
       "1   113497  http://www.imdb.com/title/tt113497   \n",
       "2   113228  http://www.imdb.com/title/tt113228   \n",
       "3   114885  http://www.imdb.com/title/tt114885   \n",
       "4   113041  http://www.imdb.com/title/tt113041   \n",
       "\n",
       "                                Title  IMDB Score                       Genre  \\\n",
       "0                    Toy Story (1995)         8.3  Animation|Adventure|Comedy   \n",
       "1                      Jumanji (1995)         6.9     Action|Adventure|Family   \n",
       "2             Grumpier Old Men (1995)         6.6              Comedy|Romance   \n",
       "3            Waiting to Exhale (1995)         5.7        Comedy|Drama|Romance   \n",
       "4  Father of the Bride Part II (1995)         5.9       Comedy|Family|Romance   \n",
       "\n",
       "                                              poster  \n",
       "0  https://images-na.ssl-images-amazon.com/images...  \n",
       "1  https://images-na.ssl-images-amazon.com/images...  \n",
       "2  https://images-na.ssl-images-amazon.com/images...  \n",
       "3  https://images-na.ssl-images-amazon.com/images...  \n",
       "4  https://images-na.ssl-images-amazon.com/images...  "
      ]
     },
     "execution_count": 36,
     "metadata": {},
     "output_type": "execute_result"
    }
   ],
   "source": [
    "df_posters = pd.read_csv(f'{data_prefix}/posters.csv', encoding='latin1')\n",
    "df_posters = df_posters.rename(columns={\"imdbId\": \"imdb_id\", \"Poster\": \"poster\"})\n",
    "df_posters.head()"
   ]
  },
  {
   "cell_type": "code",
   "execution_count": null,
   "id": "672eba9b",
   "metadata": {},
   "outputs": [],
   "source": [
    "df_posters['imdb_id'] = df_posters['imdb_id'].astype(str)\n",
    "df_posters['imdb_id'] = df_posters['imdb_id'].apply(lambda x: 'tt' + x.rjust(7, '0'))\n",
    "df_posters.head()"
   ]
  },
  {
   "cell_type": "code",
   "execution_count": null,
   "id": "86ec40fe",
   "metadata": {},
   "outputs": [
    {
     "data": {
      "text/html": [
       "<div>\n",
       "<style scoped>\n",
       "    .dataframe tbody tr th:only-of-type {\n",
       "        vertical-align: middle;\n",
       "    }\n",
       "\n",
       "    .dataframe tbody tr th {\n",
       "        vertical-align: top;\n",
       "    }\n",
       "\n",
       "    .dataframe thead th {\n",
       "        text-align: right;\n",
       "    }\n",
       "</style>\n",
       "<table border=\"1\" class=\"dataframe\">\n",
       "  <thead>\n",
       "    <tr style=\"text-align: right;\">\n",
       "      <th></th>\n",
       "      <th>genres</th>\n",
       "      <th>id</th>\n",
       "      <th>imdb_id</th>\n",
       "      <th>original_language</th>\n",
       "      <th>original_title</th>\n",
       "      <th>overview</th>\n",
       "      <th>production_companies</th>\n",
       "      <th>production_countries</th>\n",
       "      <th>release_date</th>\n",
       "      <th>runtime</th>\n",
       "      <th>...</th>\n",
       "      <th>vote_average</th>\n",
       "      <th>vote_count</th>\n",
       "      <th>domestic_distributor</th>\n",
       "      <th>domestic_opening</th>\n",
       "      <th>mpaa</th>\n",
       "      <th>budget</th>\n",
       "      <th>revenue</th>\n",
       "      <th>actors</th>\n",
       "      <th>director</th>\n",
       "      <th>poster</th>\n",
       "    </tr>\n",
       "  </thead>\n",
       "  <tbody>\n",
       "    <tr>\n",
       "      <th>0</th>\n",
       "      <td>[Animation, Comedy, Family]</td>\n",
       "      <td>862</td>\n",
       "      <td>tt0114709</td>\n",
       "      <td>en</td>\n",
       "      <td>Toy Story</td>\n",
       "      <td>Led by Woody, Andy's toys live happily in his ...</td>\n",
       "      <td>[Pixar Animation Studios]</td>\n",
       "      <td>[US]</td>\n",
       "      <td>1995-10-30</td>\n",
       "      <td>81</td>\n",
       "      <td>...</td>\n",
       "      <td>7.7</td>\n",
       "      <td>5415</td>\n",
       "      <td>Walt Disney Studios Motion Pictures</td>\n",
       "      <td>29140617</td>\n",
       "      <td>NaN</td>\n",
       "      <td>30000000</td>\n",
       "      <td>373554033</td>\n",
       "      <td>[Tom Hanks, Tim Allen, Don Rickles]</td>\n",
       "      <td>John Lasseter</td>\n",
       "      <td>https://images-na.ssl-images-amazon.com/images...</td>\n",
       "    </tr>\n",
       "    <tr>\n",
       "      <th>1</th>\n",
       "      <td>[Adventure, Fantasy, Family]</td>\n",
       "      <td>8844</td>\n",
       "      <td>tt0113497</td>\n",
       "      <td>en</td>\n",
       "      <td>Jumanji</td>\n",
       "      <td>When siblings Judy and Peter discover an encha...</td>\n",
       "      <td>[TriStar Pictures, Teitler Film, Interscope Co...</td>\n",
       "      <td>[US]</td>\n",
       "      <td>1995-12-15</td>\n",
       "      <td>104</td>\n",
       "      <td>...</td>\n",
       "      <td>6.9</td>\n",
       "      <td>2413</td>\n",
       "      <td>Sony Pictures Releasing</td>\n",
       "      <td>11084370</td>\n",
       "      <td>PG</td>\n",
       "      <td>65000000</td>\n",
       "      <td>262797249</td>\n",
       "      <td>[Robin Williams, Jonathan Hyde, Kirsten Dunst]</td>\n",
       "      <td>Joe Johnston</td>\n",
       "      <td>https://images-na.ssl-images-amazon.com/images...</td>\n",
       "    </tr>\n",
       "    <tr>\n",
       "      <th>2</th>\n",
       "      <td>[Romance, Comedy]</td>\n",
       "      <td>15602</td>\n",
       "      <td>tt0113228</td>\n",
       "      <td>en</td>\n",
       "      <td>Grumpier Old Men</td>\n",
       "      <td>A family wedding reignites the ancient feud be...</td>\n",
       "      <td>[Warner Bros., Lancaster Gate]</td>\n",
       "      <td>[US]</td>\n",
       "      <td>1995-12-22</td>\n",
       "      <td>101</td>\n",
       "      <td>...</td>\n",
       "      <td>6.5</td>\n",
       "      <td>92</td>\n",
       "      <td>Warner Bros.</td>\n",
       "      <td>7797185</td>\n",
       "      <td>PG-13</td>\n",
       "      <td>0</td>\n",
       "      <td>71518503</td>\n",
       "      <td>[Walter Matthau, Jack Lemmon, Ann-Margret]</td>\n",
       "      <td>Howard Deutch</td>\n",
       "      <td>https://images-na.ssl-images-amazon.com/images...</td>\n",
       "    </tr>\n",
       "    <tr>\n",
       "      <th>3</th>\n",
       "      <td>[Comedy, Drama, Romance]</td>\n",
       "      <td>31357</td>\n",
       "      <td>tt0114885</td>\n",
       "      <td>en</td>\n",
       "      <td>Waiting to Exhale</td>\n",
       "      <td>Cheated on, mistreated and stepped on, the wom...</td>\n",
       "      <td>[Twentieth Century Fox Film Corporation]</td>\n",
       "      <td>[US]</td>\n",
       "      <td>1995-12-22</td>\n",
       "      <td>127</td>\n",
       "      <td>...</td>\n",
       "      <td>6.1</td>\n",
       "      <td>34</td>\n",
       "      <td>Twentieth Century Fox</td>\n",
       "      <td>14126927</td>\n",
       "      <td>R</td>\n",
       "      <td>16000000</td>\n",
       "      <td>81452156</td>\n",
       "      <td>[Whitney Houston, Angela Bassett, Loretta Devine]</td>\n",
       "      <td>Forest Whitaker</td>\n",
       "      <td>https://images-na.ssl-images-amazon.com/images...</td>\n",
       "    </tr>\n",
       "    <tr>\n",
       "      <th>4</th>\n",
       "      <td>[Comedy]</td>\n",
       "      <td>11862</td>\n",
       "      <td>tt0113041</td>\n",
       "      <td>en</td>\n",
       "      <td>Father of the Bride Part II</td>\n",
       "      <td>Just when George Banks has recovered from his ...</td>\n",
       "      <td>[Sandollar Productions, Touchstone Pictures]</td>\n",
       "      <td>[US]</td>\n",
       "      <td>1995-02-10</td>\n",
       "      <td>106</td>\n",
       "      <td>...</td>\n",
       "      <td>5.7</td>\n",
       "      <td>173</td>\n",
       "      <td>Walt Disney Studios Motion Pictures</td>\n",
       "      <td>11134978</td>\n",
       "      <td>PG</td>\n",
       "      <td>0</td>\n",
       "      <td>76578911</td>\n",
       "      <td>[Steve Martin, Diane Keaton, Martin Short]</td>\n",
       "      <td>Charles Shyer</td>\n",
       "      <td>https://images-na.ssl-images-amazon.com/images...</td>\n",
       "    </tr>\n",
       "  </tbody>\n",
       "</table>\n",
       "<p>5 rows × 24 columns</p>\n",
       "</div>"
      ],
      "text/plain": [
       "                         genres     id    imdb_id original_language  \\\n",
       "0   [Animation, Comedy, Family]    862  tt0114709                en   \n",
       "1  [Adventure, Fantasy, Family]   8844  tt0113497                en   \n",
       "2             [Romance, Comedy]  15602  tt0113228                en   \n",
       "3      [Comedy, Drama, Romance]  31357  tt0114885                en   \n",
       "4                      [Comedy]  11862  tt0113041                en   \n",
       "\n",
       "                original_title  \\\n",
       "0                    Toy Story   \n",
       "1                      Jumanji   \n",
       "2             Grumpier Old Men   \n",
       "3            Waiting to Exhale   \n",
       "4  Father of the Bride Part II   \n",
       "\n",
       "                                            overview  \\\n",
       "0  Led by Woody, Andy's toys live happily in his ...   \n",
       "1  When siblings Judy and Peter discover an encha...   \n",
       "2  A family wedding reignites the ancient feud be...   \n",
       "3  Cheated on, mistreated and stepped on, the wom...   \n",
       "4  Just when George Banks has recovered from his ...   \n",
       "\n",
       "                                production_companies production_countries  \\\n",
       "0                          [Pixar Animation Studios]                 [US]   \n",
       "1  [TriStar Pictures, Teitler Film, Interscope Co...                 [US]   \n",
       "2                     [Warner Bros., Lancaster Gate]                 [US]   \n",
       "3           [Twentieth Century Fox Film Corporation]                 [US]   \n",
       "4       [Sandollar Productions, Touchstone Pictures]                 [US]   \n",
       "\n",
       "  release_date  runtime  ... vote_average vote_count  \\\n",
       "0   1995-10-30       81  ...          7.7       5415   \n",
       "1   1995-12-15      104  ...          6.9       2413   \n",
       "2   1995-12-22      101  ...          6.5         92   \n",
       "3   1995-12-22      127  ...          6.1         34   \n",
       "4   1995-02-10      106  ...          5.7        173   \n",
       "\n",
       "                  domestic_distributor domestic_opening   mpaa    budget  \\\n",
       "0  Walt Disney Studios Motion Pictures         29140617    NaN  30000000   \n",
       "1              Sony Pictures Releasing         11084370     PG  65000000   \n",
       "2                         Warner Bros.          7797185  PG-13         0   \n",
       "3                Twentieth Century Fox         14126927      R  16000000   \n",
       "4  Walt Disney Studios Motion Pictures         11134978     PG         0   \n",
       "\n",
       "     revenue                                             actors  \\\n",
       "0  373554033                [Tom Hanks, Tim Allen, Don Rickles]   \n",
       "1  262797249     [Robin Williams, Jonathan Hyde, Kirsten Dunst]   \n",
       "2   71518503         [Walter Matthau, Jack Lemmon, Ann-Margret]   \n",
       "3   81452156  [Whitney Houston, Angela Bassett, Loretta Devine]   \n",
       "4   76578911         [Steve Martin, Diane Keaton, Martin Short]   \n",
       "\n",
       "          director                                             poster  \n",
       "0    John Lasseter  https://images-na.ssl-images-amazon.com/images...  \n",
       "1     Joe Johnston  https://images-na.ssl-images-amazon.com/images...  \n",
       "2    Howard Deutch  https://images-na.ssl-images-amazon.com/images...  \n",
       "3  Forest Whitaker  https://images-na.ssl-images-amazon.com/images...  \n",
       "4    Charles Shyer  https://images-na.ssl-images-amazon.com/images...  \n",
       "\n",
       "[5 rows x 24 columns]"
      ]
     },
     "execution_count": 55,
     "metadata": {},
     "output_type": "execute_result"
    }
   ],
   "source": [
    "df = df.merge(df_posters[['imdb_id', 'poster']], on=['imdb_id'], how='inner')\n",
    "df.head()"
   ]
  },
  {
   "cell_type": "code",
   "execution_count": null,
   "id": "78fb69e1",
   "metadata": {},
   "outputs": [
    {
     "data": {
      "text/plain": [
       "(18833, 24)"
      ]
     },
     "execution_count": 57,
     "metadata": {},
     "output_type": "execute_result"
    }
   ],
   "source": [
    "df[(df['poster'].notna())].shape"
   ]
  },
  {
   "cell_type": "code",
   "execution_count": null,
   "id": "d5ff03c6",
   "metadata": {},
   "outputs": [],
   "source": [
    "df.to_csv('./movie_dataset.csv')"
   ]
  }
 ],
 "metadata": {
  "kernelspec": {
   "display_name": "venv",
   "language": "python",
   "name": "venv"
  },
  "language_info": {
   "codemirror_mode": {
    "name": "ipython",
    "version": 3
   },
   "file_extension": ".py",
   "mimetype": "text/x-python",
   "name": "python",
   "nbconvert_exporter": "python",
   "pygments_lexer": "ipython3",
   "version": "3.11.11"
  }
 },
 "nbformat": 4,
 "nbformat_minor": 5
}
